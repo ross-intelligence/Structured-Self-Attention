{
 "cells": [
  {
   "cell_type": "code",
   "execution_count": 4,
   "metadata": {},
   "outputs": [],
   "source": [
    "from data_loader import NLIDataloader "
   ]
  },
  {
   "cell_type": "code",
   "execution_count": 14,
   "metadata": {},
   "outputs": [],
   "source": [
    "nliloader = NLIDataloader('./multinli_1.0', './snli_1.0', 'glove.6B.300d')"
   ]
  },
  {
   "cell_type": "code",
   "execution_count": 15,
   "metadata": {},
   "outputs": [
    {
     "name": "stderr",
     "output_type": "stream",
     "text": [
      "The `device` argument should be set by using `torch.device` or passing a string as an argument. This behavior will be deprecated soon and currently defaults to cpu.\n",
      "The `device` argument should be set by using `torch.device` or passing a string as an argument. This behavior will be deprecated soon and currently defaults to cpu.\n",
      "The `device` argument should be set by using `torch.device` or passing a string as an argument. This behavior will be deprecated soon and currently defaults to cpu.\n",
      "The `device` argument should be set by using `torch.device` or passing a string as an argument. This behavior will be deprecated soon and currently defaults to cpu.\n",
      "The `device` argument should be set by using `torch.device` or passing a string as an argument. This behavior will be deprecated soon and currently defaults to cpu.\n",
      "The `device` argument should be set by using `torch.device` or passing a string as an argument. This behavior will be deprecated soon and currently defaults to cpu.\n"
     ]
    },
    {
     "data": {
      "text/plain": [
       "((<torchtext.data.iterator.BucketIterator at 0x247651f60>,\n",
       "  <torchtext.data.iterator.BucketIterator at 0x247651ef0>,\n",
       "  <torchtext.data.iterator.BucketIterator at 0x247651e10>),\n",
       " (<torchtext.data.iterator.BucketIterator at 0x247651e80>,\n",
       "  <torchtext.data.iterator.BucketIterator at 0x247651c88>,\n",
       "  <torchtext.data.iterator.BucketIterator at 0x247651ba8>),\n",
       " <torchtext.data.field.Field at 0x1bf1b0be0>,\n",
       " <torchtext.data.field.Field at 0x1bf1b04a8>,\n",
       " <torchtext.data.field.Field at 0x1bf1b00f0>)"
      ]
     },
     "execution_count": 15,
     "metadata": {},
     "output_type": "execute_result"
    }
   ],
   "source": [
    "snli, multinli, TEXT, LABEL, GENRE = nliloader.load_nlidata(1024, 1, \"spacy\")"
   ]
  },
  {
   "cell_type": "code",
   "execution_count": 18,
   "metadata": {},
   "outputs": [],
   "source": [
    "snli_train_iter, snli_val_iter, snli_test_iter = snli"
   ]
  },
  {
   "cell_type": "code",
   "execution_count": 19,
   "metadata": {},
   "outputs": [
    {
     "data": {
      "text/plain": [
       "\n",
       "[torchtext.data.batch.Batch of size 1024]\n",
       "\t[.premise]:('[torch.LongTensor of size 1024x54]', '[torch.LongTensor of size 1024]')\n",
       "\t[.hypothesis]:('[torch.LongTensor of size 1024x27]', '[torch.LongTensor of size 1024]')\n",
       "\t[.label]:[torch.LongTensor of size 1024]"
      ]
     },
     "execution_count": 19,
     "metadata": {},
     "output_type": "execute_result"
    }
   ],
   "source": [
    "ex = next(iter(snli_train_iter))"
   ]
  }
 ],
 "metadata": {
  "kernelspec": {
   "display_name": "Python 3",
   "language": "python",
   "name": "python3"
  },
  "language_info": {
   "codemirror_mode": {
    "name": "ipython",
    "version": 3
   },
   "file_extension": ".py",
   "mimetype": "text/x-python",
   "name": "python",
   "nbconvert_exporter": "python",
   "pygments_lexer": "ipython3",
   "version": "3.6.6"
  }
 },
 "nbformat": 4,
 "nbformat_minor": 2
}
